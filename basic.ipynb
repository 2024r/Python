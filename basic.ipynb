{
 "cells": [
  {
   "cell_type": "code",
   "execution_count": 1,
   "id": "9b43aab0",
   "metadata": {},
   "outputs": [
    {
     "name": "stdout",
     "output_type": "stream",
     "text": [
      "hello\n"
     ]
    }
   ],
   "source": [
    "print(\"hello\")"
   ]
  },
  {
   "cell_type": "code",
   "execution_count": null,
   "id": "029b6764",
   "metadata": {},
   "outputs": [
    {
     "name": "stdout",
     "output_type": "stream",
     "text": [
      "140704736048040 140704736047976 140704736048040\n",
      "140704736048040 2230966222064 140704736048040\n"
     ]
    }
   ],
   "source": [
    "x=5\n",
    "y=3\n",
    "z=5\n",
    "print(id(x),id(y), id(z))#id() returns the memory address of the objec\n",
    "y = \"hello\"\n",
    "print(id(x),id(y), id(z))"
   ]
  },
  {
   "cell_type": "code",
   "execution_count": 3,
   "id": "7aed3134",
   "metadata": {},
   "outputs": [
    {
     "name": "stdout",
     "output_type": "stream",
     "text": [
      "my name is ritesh my age is 5 my height is 5.5\n"
     ]
    }
   ],
   "source": [
    "name=input(\"Enter your name:   \")\n",
    "age = int(input(\"Enter your age:   \"))\n",
    "hight =float(input(\"Enter your height: \") )  \n",
    "     \n",
    "print(\"my name is\",name ,\"my age is\",age,\"my height is\",hight)"
   ]
  },
  {
   "cell_type": "code",
   "execution_count": null,
   "id": "0ff6df8d",
   "metadata": {},
   "outputs": [
    {
     "name": "stdout",
     "output_type": "stream",
     "text": [
      "Area is 4830 and parameter is 278\n"
     ]
    }
   ],
   "source": [
    "#write a program to calculate the area and parameter of a rectangle\n",
    "l=eval(input(\"Enter a length: \"))\n",
    "w=eval(input(\"Enter a width: \"))\n",
    "area = l * w    \n",
    "parameter = 2 * (l + w)\n",
    "print(\"Area is\", area, \"and parameter is\", parameter)"
   ]
  },
  {
   "cell_type": "code",
   "execution_count": 5,
   "id": "92fe4f0b",
   "metadata": {},
   "outputs": [
    {
     "name": "stdout",
     "output_type": "stream",
     "text": [
      "Area is 3555.0 and perimeter is 270\n"
     ]
    }
   ],
   "source": [
    "#wap to calculaet the area and parameter of a triangle\n",
    "base=eval(input(\"Enter a base: \"))\n",
    "height=eval(input(\"Enter a height: \"))\n",
    "area = (base * height) / 2\n",
    "perimeter = 3 * base\n",
    "print(\"Area is\", area, \"and perimeter is\", perimeter)"
   ]
  },
  {
   "cell_type": "code",
   "execution_count": null,
   "id": "111289d5",
   "metadata": {},
   "outputs": [
    {
     "name": "stdout",
     "output_type": "stream",
     "text": [
      "You are a chotu\n"
     ]
    }
   ],
   "source": [
    "#wap to check if a person is a chotu or bada(eligbble to vote or not)\n",
    "age=int(input(\"Enter your age:   \"))\n",
    "if age < 18:\n",
    "    print(\"You are a chotu\")\n",
    "else:\n",
    "    print(\"You are a bada\")"
   ]
  },
  {
   "cell_type": "code",
   "execution_count": null,
   "id": "2a7ce127",
   "metadata": {},
   "outputs": [
    {
     "name": "stdout",
     "output_type": "stream",
     "text": [
      "The number is positive\n"
     ]
    }
   ],
   "source": [
    "#wap to check if a number is positive, negative or zero\n",
    "no=int(input(\"Enter a number: \"))\n",
    "if no>0:\n",
    "    print(\"The number is positive\")\n",
    "elif no<0:\n",
    "    print(\"The number is negative\")\n",
    "else:\n",
    "    print(\"The number is zero\")"
   ]
  },
  {
   "cell_type": "code",
   "execution_count": null,
   "id": "a3c776c0",
   "metadata": {},
   "outputs": [
    {
     "name": "stdout",
     "output_type": "stream",
     "text": [
      "You are a senior citizen\n"
     ]
    }
   ],
   "source": [
    "#wap to check the age group of a person\n",
    "# (child, teenager, adult, senior citizen)\n",
    "a=int(input(\"Enter a age: \"))\n",
    "if a<=12:\n",
    "    print(\"You are a child\")\n",
    "elif a<=19:\n",
    "    print(\"You are a teenager\") \n",
    "elif a<=59:\n",
    "    print(\"You are an adult\")\n",
    "else:\n",
    "    print(\"You are a senior citizen\")"
   ]
  },
  {
   "cell_type": "code",
   "execution_count": 3,
   "id": "eb247db5",
   "metadata": {},
   "outputs": [
    {
     "name": "stdout",
     "output_type": "stream",
     "text": [
      "6 5 8\n"
     ]
    }
   ],
   "source": [
    "a=int(input(\"enter a number:\"))\n",
    "b=int(input(\"enter a number:\"))\n",
    "c=int(input(\"enter a number:\"))\n",
    "if a< b and b< c:\n",
    "    print(a,b,c,    )\n",
    "elif a<=c and b<=c:\n",
    "    print(a,b,c,)\n",
    "elif b<=a and c<=a: \n",
    "    print(b,c,a, )\n",
    "else:\n",
    "    print(c,a,b,) "
   ]
  },
  {
   "cell_type": "code",
   "execution_count": null,
   "id": "ab7e8b16",
   "metadata": {},
   "outputs": [
    {
     "name": "stdout",
     "output_type": "stream",
     "text": [
      "isosceles triangle\n"
     ]
    }
   ],
   "source": [
    "#wap to check the type of triangle based on the lengths of its sides\n",
    "# (equilateral, isosceles, scalene)\n",
    "a=int(input())\n",
    "b=int(input())\n",
    "c=int(input())\n",
    "if a==b and b==c:\n",
    "    print(\"equilateral triangle\") \n",
    "elif a==b or b==c or a==c:\n",
    "    print(\"isosceles triangle\")\n",
    "else:\n",
    "    print(\"scalene triangle\")   "
   ]
  },
  {
   "cell_type": "code",
   "execution_count": 5,
   "id": "3ce6bf72",
   "metadata": {},
   "outputs": [
    {
     "name": "stdout",
     "output_type": "stream",
     "text": [
      "valid\n"
     ]
    }
   ],
   "source": [
    "a=int(input())\n",
    "b=int(input())\n",
    "c=int(input())\n",
    "if a+b>c and a+c>b and b+c>a:\n",
    "    print(\"valid\") \n",
    "else:\n",
    "    print(\"invalid\")\n",
    "    "
   ]
  },
  {
   "cell_type": "code",
   "execution_count": 10,
   "id": "8a818c71",
   "metadata": {},
   "outputs": [
    {
     "name": "stdout",
     "output_type": "stream",
     "text": [
      "Total bill is 165.0\n"
     ]
    }
   ],
   "source": [
    "u=int(input())\n",
    "if u<=50:\n",
    "    bill=u*0.50\n",
    "elif u<=200:\n",
    "    bill=50*0.5+(u-50)*0.75 \n",
    "elif u<=450:\n",
    "    bill=50*0.5+150*0.75+(u-200)*1.20\n",
    "else:\n",
    "    bill=50*0.5+150*0.75+250*1.20+(u-450)*1.50\n",
    "\n",
    "finalbill=bill+bill*0.20\n",
    "print(\"Total bill is\", finalbill)\n"
   ]
  },
  {
   "cell_type": "code",
   "execution_count": null,
   "id": "65a17383",
   "metadata": {},
   "outputs": [],
   "source": [
    "a=int(input())\n",
    "if a>=10\n",
    "\n"
   ]
  },
  {
   "cell_type": "code",
   "execution_count": 12,
   "id": "670707e7",
   "metadata": {},
   "outputs": [
    {
     "name": "stdout",
     "output_type": "stream",
     "text": [
      "1 3 5 7 9 11 13 15 17 19 "
     ]
    }
   ],
   "source": [
    "#while loop\n",
    "n=1 \n",
    "while n<=19:\n",
    "    print(n,end=' ')\n",
    "    n+=2"
   ]
  },
  {
   "cell_type": "code",
   "execution_count": 7,
   "id": "9d54da99",
   "metadata": {},
   "outputs": [
    {
     "name": "stdout",
     "output_type": "stream",
     "text": [
      "1081 "
     ]
    }
   ],
   "source": [
    "temp = 0\n",
    "n=25\n",
    "while n<=70:\n",
    "    if n%2!=0:\n",
    "        temp+=n\n",
    "    n+=1\n",
    "print(temp, end=' ')\n"
   ]
  },
  {
   "cell_type": "code",
   "execution_count": null,
   "id": "aeea2867",
   "metadata": {},
   "outputs": [
    {
     "name": "stdout",
     "output_type": "stream",
     "text": [
      "1 5 "
     ]
    }
   ],
   "source": [
    "# wap to find the factor of a number\n",
    "n=int(input(\"Enter a number: \"))\n",
    "i=1\n",
    "while i<=n:\n",
    "    if n%i==0:\n",
    "        print(i, end=' ')\n",
    "    i+=1\n",
    "\n"
   ]
  },
  {
   "cell_type": "code",
   "execution_count": null,
   "id": "d53ea1a3",
   "metadata": {},
   "outputs": [
    {
     "name": "stdout",
     "output_type": "stream",
     "text": [
      "120 "
     ]
    }
   ],
   "source": [
    "# wap to find the factoril\n",
    "i=1 \n",
    "temp=1\n",
    "n=int(input())\n",
    "while i<=n:\n",
    "    temp*=i\n",
    "    i+=1\n",
    "print(temp, end=' ')"
   ]
  },
  {
   "cell_type": "code",
   "execution_count": null,
   "id": "3ae34e7e",
   "metadata": {},
   "outputs": [
    {
     "name": "stdout",
     "output_type": "stream",
     "text": [
      "Number of digits: 1\n"
     ]
    }
   ],
   "source": [
    "#wap to count the number of digits in a number\n",
    "n = int(input(\"Enter a number: \"))\n",
    "count = 0\n",
    "while n != 0:\n",
    "    n //= 10\n",
    "    count += 1\n",
    "print(\"Number of digits:\", count)"
   ]
  },
  {
   "cell_type": "code",
   "execution_count": null,
   "id": "e024168f",
   "metadata": {},
   "outputs": [
    {
     "name": "stdout",
     "output_type": "stream",
     "text": [
      "Reversed number: 543\n"
     ]
    }
   ],
   "source": [
    "num =345\n",
    "rev=0\n",
    "while num > 0:\n",
    "    digit = num % 10\n",
    "    rev = rev * 10 + digit\n",
    "    num //= 10  \n",
    "print(\"Reversed number:\", rev)"
   ]
  },
  {
   "cell_type": "code",
   "execution_count": 11,
   "id": "50ae8a60",
   "metadata": {},
   "outputs": [
    {
     "name": "stdout",
     "output_type": "stream",
     "text": [
      "lcm is  55\n"
     ]
    }
   ],
   "source": [
    "#will take  two number from user and find the lcm of both\n",
    "a=int(input ())\n",
    "b=int(input())\n",
    "for i in range (a,a+b+1):\n",
    "    if i%a==0 and i%b==0:\n",
    "        print(\"lcm is \",i)\n",
    "        break"
   ]
  },
  {
   "cell_type": "code",
   "execution_count": 12,
   "id": "a86439e3",
   "metadata": {},
   "outputs": [
    {
     "name": "stdout",
     "output_type": "stream",
     "text": [
      "1\n",
      "2\n",
      "3\n",
      "4\n",
      "5\n",
      "6\n",
      "7\n",
      "8\n",
      "9\n",
      "10\n",
      "11\n",
      "12\n",
      "13\n",
      "14\n",
      "15\n",
      "16\n",
      "17\n",
      "18\n",
      "19\n",
      "20\n",
      "21\n",
      "22\n",
      "23\n",
      "24\n"
     ]
    }
   ],
   "source": [
    "#wap  which will ADD  all the no. in between 10 to 55 but it will skip all those no 3 and 5\n",
    "temp=0\n",
    "for i in range (10,56):\n",
    "    if i%3!=0 and i%5!=0:\n",
    "        temp+=1\n",
    "        print(temp)\n",
    "        "
   ]
  },
  {
   "cell_type": "code",
   "execution_count": 24,
   "id": "36835080",
   "metadata": {},
   "outputs": [
    {
     "name": "stdout",
     "output_type": "stream",
     "text": [
      "64 1\n"
     ]
    }
   ],
   "source": [
    "#wap multipiction of even \n",
    "n = int(input())\n",
    "ef=of=1\n",
    "for i in range (1,n+1):\n",
    "    if n%i==0 and n%2==0:\n",
    "        ef*=i\n",
    "    elif n%i==0 and n%2!=0:\n",
    "        of*=i\n",
    "print(ef, of)\n"
   ]
  },
  {
   "cell_type": "code",
   "execution_count": null,
   "id": "d827669d",
   "metadata": {},
   "outputs": [],
   "source": [
    "\n"
   ]
  }
 ],
 "metadata": {
  "kernelspec": {
   "display_name": "Python 3",
   "language": "python",
   "name": "python3"
  },
  "language_info": {
   "codemirror_mode": {
    "name": "ipython",
    "version": 3
   },
   "file_extension": ".py",
   "mimetype": "text/x-python",
   "name": "python",
   "nbconvert_exporter": "python",
   "pygments_lexer": "ipython3",
   "version": "3.11.9"
  }
 },
 "nbformat": 4,
 "nbformat_minor": 5
}

{
 "cells": [
  {
   "cell_type": "code",
   "execution_count": 8,
   "id": "e2a95604",
   "metadata": {},
   "outputs": [
    {
     "name": "stdout",
     "output_type": "stream",
     "text": [
      "['a', 'b', 'c', 'd', 'e', 'f', 'g', 'h', 'i', 'j', 'k', 'l', 'm', 'n', 'o', 'p', 'q', 'r', 's', 't', 'u', 'v', 'w', 'x', 'y', 'z']\n"
     ]
    }
   ],
   "source": [
    "#list \n",
    "alphabet_list=[\"a\",\"b\",\"c\",\"d\",\"e\",\"f\",\"g\",\"h\",\"i\",\"j\",\"k\",\"l\",\"m\",\"n\",\"o\",\"p\",\"q\",\"r\",\"s\",\"t\",\"u\",\"v\",\"w\",\"x\",\"y\",\"z\"]\n",
    "\n",
    "print( alphabet_list )"
   ]
  },
  {
   "cell_type": "code",
   "execution_count": 9,
   "id": "1f95f2af",
   "metadata": {},
   "outputs": [
    {
     "name": "stdout",
     "output_type": "stream",
     "text": [
      "[6, 7, 8, 9, 10, [1, 2, 3, 4, 5]]\n"
     ]
    }
   ],
   "source": [
    "list1 = [1, 2, 3, 4, 5]\n",
    "list2 = [6, 7, 8, 9, 10]\n",
    "list2.append(list1)\n",
    "print(list2)"
   ]
  },
  {
   "cell_type": "code",
   "execution_count": 14,
   "id": "d4def39f",
   "metadata": {},
   "outputs": [
    {
     "name": "stdout",
     "output_type": "stream",
     "text": [
      "1  2  3  4  5  "
     ]
    }
   ],
   "source": [
    "list1 = [1, 2, 3, 4, 5]\n",
    "for i in range (len(list1)):\n",
    "    print(list1[i],end=\"  \")"
   ]
  },
  {
   "cell_type": "code",
   "execution_count": 17,
   "id": "67db7d7b",
   "metadata": {},
   "outputs": [
    {
     "name": "stdout",
     "output_type": "stream",
     "text": [
      "3   5\n"
     ]
    }
   ],
   "source": [
    "#wap to count even and odd no. in alist \n",
    "list1=[1,2,3,4,5,6,7,9]\n",
    "ev=od=0\n",
    "for i in range (len(list1)):\n",
    "    if list1[i]%2==0:\n",
    "        ev+=1\n",
    "    else:\n",
    "        od+=1\n",
    "print(ev,\" \",od)\n",
    "\n"
   ]
  },
  {
   "cell_type": "code",
   "execution_count": 18,
   "id": "ae9a838e",
   "metadata": {},
   "outputs": [
    {
     "name": "stdout",
     "output_type": "stream",
     "text": [
      "[6, 'even', 8, 'even', 10]\n"
     ]
    }
   ],
   "source": [
    "list1 = [1, 2, 3, 4, 5]\n",
    "for i in range(len(list1)):\n",
    "    if list1[i]%2==0:\n",
    "        list1[i]=\"even\"\n",
    "    else:\n",
    "        list1[i]+=5\n",
    "print (list1)\n"
   ]
  },
  {
   "cell_type": "code",
   "execution_count": 1,
   "id": "c44d541a",
   "metadata": {},
   "outputs": [
    {
     "name": "stdout",
     "output_type": "stream",
     "text": [
      "[1, 2, 4, 5]\n"
     ]
    }
   ],
   "source": [
    "list1 = [1, 2, 3, 4, 5]\n",
    "del list1[2]\n",
    "print(list1)"
   ]
  },
  {
   "cell_type": "code",
   "execution_count": null,
   "id": "3fe2f66b",
   "metadata": {},
   "outputs": [
    {
     "ename": "NameError",
     "evalue": "name 'list1' is not defined",
     "output_type": "error",
     "traceback": [
      "\u001b[31m---------------------------------------------------------------------------\u001b[39m",
      "\u001b[31mNameError\u001b[39m                                 Traceback (most recent call last)",
      "\u001b[36mCell\u001b[39m\u001b[36m \u001b[39m\u001b[32mIn[2]\u001b[39m\u001b[32m, line 3\u001b[39m\n\u001b[32m      1\u001b[39m list1 = [\u001b[32m1\u001b[39m, \u001b[32m2\u001b[39m, \u001b[32m3\u001b[39m, \u001b[32m4\u001b[39m, \u001b[32m5\u001b[39m]\n\u001b[32m      2\u001b[39m \u001b[38;5;28;01mdel\u001b[39;00m list1\n\u001b[32m----> \u001b[39m\u001b[32m3\u001b[39m \u001b[38;5;28mprint\u001b[39m(\u001b[43mlist1\u001b[49m)\n",
      "\u001b[31mNameError\u001b[39m: name 'list1' is not defined"
     ]
    }
   ],
   "source": [
    "#delete\n",
    "# This will raise an error because list1 is deleted\n",
    "list1 = [1, 2, 3, 4, 5]\n",
    "del list1\n",
    "print(list1)"
   ]
  },
  {
   "cell_type": "code",
   "execution_count": null,
   "id": "ed048574",
   "metadata": {},
   "outputs": [
    {
     "name": "stdout",
     "output_type": "stream",
     "text": [
      "[1, 2, 4, 5]\n",
      "3\n"
     ]
    }
   ],
   "source": [
    "#pop() method removes and returns the last item in the list.\n",
    "# If index is specified, the item at the given index is removed and returned.\n",
    "list1 = [1, 2, 3, 4, 5]\n",
    "a =list1.pop(2)\n",
    "print(list1)\n",
    "print(a)\n"
   ]
  },
  {
   "cell_type": "code",
   "execution_count": null,
   "id": "8cc87ad8",
   "metadata": {},
   "outputs": [
    {
     "name": "stdout",
     "output_type": "stream",
     "text": [
      "[1, 2, 3, 4, 5]\n",
      "[1, 3, 4, 5]\n"
     ]
    }
   ],
   "source": [
    "#remove an element from a list\n",
    "#remove() method removes the first occurrence of a value.\n",
    "list1 = [1, 2, 3, 4, 5]\n",
    "print(list1)\n",
    "list1.remove(2)\n",
    "print(list1)"
   ]
  },
  {
   "cell_type": "code",
   "execution_count": 7,
   "id": "f7cb7cbf",
   "metadata": {},
   "outputs": [
    {
     "name": "stdout",
     "output_type": "stream",
     "text": [
      "0\n"
     ]
    }
   ],
   "source": [
    "#count() method returns the number of occurrences of a specified value.\n",
    "list1 = [1, 2, 3, 4, 5, 1, 2, 3, 4, 5]\n",
    "print(list1.count(44))   "
   ]
  },
  {
   "cell_type": "code",
   "execution_count": 8,
   "id": "0a6042ab",
   "metadata": {},
   "outputs": [
    {
     "name": "stdout",
     "output_type": "stream",
     "text": [
      "[5, 4, 3, 2, 1]\n"
     ]
    }
   ],
   "source": [
    "numbers = [1, 2, 3, 4, 5]\n",
    "numbers.reverse()\n",
    "print(numbers)      "
   ]
  },
  {
   "cell_type": "code",
   "execution_count": null,
   "id": "1c08e7c8",
   "metadata": {},
   "outputs": [],
   "source": [
    "#to swap alternate elemnts of the list\n",
    "list"
   ]
  },
  {
   "cell_type": "code",
   "execution_count": null,
   "id": "8d8d0ce3",
   "metadata": {},
   "outputs": [],
   "source": [
    "lst=[1,2,3,4,5,6,7,8,9]\n",
    "temp=lst[0]\n",
    "for i in range(len(lst)):\n",
    "    if"
   ]
  },
  {
   "cell_type": "code",
   "execution_count": null,
   "id": "9d7dc033",
   "metadata": {},
   "outputs": [],
   "source": [
    "lst=[1,2,3,4,5,6,7,8,9]\n",
    "if lst(0)\n",
    "\n"
   ]
  },
  {
   "cell_type": "code",
   "execution_count": null,
   "id": "04f9d393",
   "metadata": {},
   "outputs": [],
   "source": [
    "lst=[25,3,4,5,6,7,8,900,10]\n",
    "lst.reverse()\n",
    "lst=[lst[0]]\n",
    "temp=lst[0]\n",
    "for i in lst"
   ]
  },
  {
   "cell_type": "code",
   "execution_count": 9,
   "id": "96143daf",
   "metadata": {},
   "outputs": [
    {
     "name": "stdout",
     "output_type": "stream",
     "text": [
      "[4, 9, 16, 25, 36, 49, 64, 81]\n"
     ]
    }
   ],
   "source": [
    "lst=[2,3,4,5,6,7,8,9]\n",
    "lst1=[i**2 for i in lst]\n",
    "print(lst1)"
   ]
  },
  {
   "cell_type": "code",
   "execution_count": 12,
   "id": "4a23a902",
   "metadata": {},
   "outputs": [
    {
     "name": "stdout",
     "output_type": "stream",
     "text": [
      "[1, 3, 4, 5]\n",
      "[-2]\n"
     ]
    }
   ],
   "source": [
    "lst1 = [1,- 2, 3, 4, 5]\n",
    "lst2=[i for i in lst1  if i>0]\n",
    "lst3 = [i for i in lst1 if i < 0]\n",
    "print(lst2)\n",
    "print(lst3)"
   ]
  },
  {
   "cell_type": "code",
   "execution_count": 13,
   "id": "7ab0a8a1",
   "metadata": {},
   "outputs": [
    {
     "name": "stdout",
     "output_type": "stream",
     "text": [
      "['odd', 'even', 'odd', 'even', 'odd']\n"
     ]
    }
   ],
   "source": [
    "lst1 = [1, 2, 3, 4, 5]\n",
    "lst2=[\"even\" if i%2==0 else \"odd\" for i in lst1]\n",
    "print(lst2)"
   ]
  },
  {
   "cell_type": "code",
   "execution_count": 1,
   "id": "4f14dfad",
   "metadata": {},
   "outputs": [
    {
     "name": "stdout",
     "output_type": "stream",
     "text": [
      "5\n",
      "1\n",
      "15\n"
     ]
    }
   ],
   "source": [
    "lst1 = [1, 2, 3, 4, 5]\n",
    "print(max(lst1))\n",
    "print(min(lst1))\n",
    "print(sum(lst1))"
   ]
  },
  {
   "cell_type": "code",
   "execution_count": 5,
   "id": "9df37b5a",
   "metadata": {},
   "outputs": [
    {
     "ename": "TypeError",
     "evalue": "unsupported operand type(s) for %: 'list' and 'int'",
     "output_type": "error",
     "traceback": [
      "\u001b[31m---------------------------------------------------------------------------\u001b[39m",
      "\u001b[31mTypeError\u001b[39m                                 Traceback (most recent call last)",
      "\u001b[36mCell\u001b[39m\u001b[36m \u001b[39m\u001b[32mIn[5]\u001b[39m\u001b[32m, line 6\u001b[39m\n\u001b[32m      4\u001b[39m temp=\u001b[32m0\u001b[39m\n\u001b[32m      5\u001b[39m \u001b[38;5;28;01mfor\u001b[39;00m j \u001b[38;5;129;01min\u001b[39;00m i:\n\u001b[32m----> \u001b[39m\u001b[32m6\u001b[39m     \u001b[38;5;28;01mif\u001b[39;00m \u001b[43mi\u001b[49m\u001b[43m%\u001b[49m\u001b[32;43m2\u001b[39;49m!=\u001b[32m0\u001b[39m:\n\u001b[32m      7\u001b[39m       temp += j\n\u001b[32m      8\u001b[39m lst2.append(temp)\n",
      "\u001b[31mTypeError\u001b[39m: unsupported operand type(s) for %: 'list' and 'int'"
     ]
    }
   ],
   "source": [
    "lst1 = [[1, 2, 3, 4, 5],[1,2,3,4,5],[1,2,3,4,5]]\n",
    "lst2= []\n",
    "for i in lst1:\n",
    "    temp=0\n",
    "    for j in i:\n",
    "        if i%2!=0:\n",
    "          temp += j\n",
    "    lst2.append(temp)\n",
    "print(lst2)\n",
    "# There are a few issues in the code:\n",
    "# 1. 'i' is a list, so 'if i%2!=0:' will raise a TypeError. You probably meant to check 'j%2!=0'.\n",
    "# 2. The indentation of 'temp+=j' is incorrect; it should be inside the if statement.\n",
    "# 3. The logic seems to be summing odd numbers in each sublist.\n",
    "\n",
    "# Corrected code:\n",
    "#"
   ]
  },
  {
   "cell_type": "code",
   "execution_count": 6,
   "id": "25934177",
   "metadata": {},
   "outputs": [
    {
     "name": "stdout",
     "output_type": "stream",
     "text": [
      "(2, 4)\n"
     ]
    }
   ],
   "source": [
    "x= [1, 2, 3, 4, 5]\n",
    "y=()\n",
    "ls=list(y)\n",
    "for i in x:\n",
    "    if i%2==0:\n",
    "        ls.append(i)\n",
    "y=tuple(ls)\n",
    "print(y)  # Output: (2, 4)              "
   ]
  },
  {
   "cell_type": "code",
   "execution_count": 8,
   "id": "b33c5081",
   "metadata": {},
   "outputs": [
    {
     "name": "stdout",
     "output_type": "stream",
     "text": [
      "nt a t\n",
      "e h\n",
      "n python\n",
      "l'lrph\n",
      "'a\n",
      "n\n"
     ]
    }
   ],
   "source": [
    "#string to list\n",
    "string = \"let's learn python\"\n",
    "print(string[ : :-3])\n",
    "print(string[ 7: :4])\n",
    "print(string[10 :])\n",
    "print(string[ : :3])\n",
    "print(string[ 3:10 :5])\n",
    "print(string[ -1: :])\n",
    "\n",
    "\n"
   ]
  },
  {
   "cell_type": "code",
   "execution_count": 9,
   "id": "0f017b9a",
   "metadata": {},
   "outputs": [
    {
     "name": "stdout",
     "output_type": "stream",
     "text": [
      "hello gyanxchand\n"
     ]
    }
   ],
   "source": [
    "x=\"Hello gyanXCHAND\"\n",
    "x.lower\n",
    "print(x.lower())  # Output: \"hello gyanxchand\""
   ]
  },
  {
   "cell_type": "code",
   "execution_count": null,
   "id": "45444e10",
   "metadata": {},
   "outputs": [],
   "source": [
    "x=\"Hello gyanXCHAND\"\n",
    "x.upper\n",
    "print(x.upper())"
   ]
  },
  {
   "cell_type": "code",
   "execution_count": null,
   "id": "9cca9d9d",
   "metadata": {},
   "outputs": [
    {
     "name": "stdout",
     "output_type": "stream",
     "text": [
      "Longest word: hhiijjkk\n",
      "Length: 8\n"
     ]
    }
   ],
   "source": [
    "#wap which will take a string from the user and print the longest word and its length\n",
    "user_input = input(\"Enter a string: \")\n",
    "words = user_input.split()\n",
    "longest_word = max(words, key=len)\n",
    "print(\"Longest word:\", longest_word)\n",
    "print(\"Length:\", len(longest_word))\n"
   ]
  },
  {
   "cell_type": "code",
   "execution_count": null,
   "id": "f7ffefde",
   "metadata": {},
   "outputs": [],
   "source": [
    "x=\" hello everyone lets learn python \"\n",
    "x=x.split()\n",
    "print(max(x))\n",
    "for i in x:"
   ]
  },
  {
   "cell_type": "code",
   "execution_count": 20,
   "id": "166f36b3",
   "metadata": {},
   "outputs": [
    {
     "name": "stdout",
     "output_type": "stream",
     "text": [
      "hello everyone lets learn python \n"
     ]
    }
   ],
   "source": [
    "x= \"hello. everyone. lets, learn, python \"\n",
    "y= x.replace(\".\",\"\").replace(\",\",\"\")\n",
    "print(y) \n",
    "    "
   ]
  },
  {
   "cell_type": "code",
   "execution_count": 21,
   "id": "9ca21125",
   "metadata": {},
   "outputs": [
    {
     "name": "stdout",
     "output_type": "stream",
     "text": [
      "hello everyone lets learn python \n"
     ]
    }
   ],
   "source": [
    "x= \"hello. everyone. lets, learn, python \"\n",
    "y= x.replace(\".\",\"\").replace(\",\",\"\")\n",
    "print(y) \n",
    "    "
   ]
  },
  {
   "cell_type": "code",
   "execution_count": null,
   "id": "f78808d4",
   "metadata": {},
   "outputs": [],
   "source": []
  },
  {
   "cell_type": "markdown",
   "id": "acb8239e",
   "metadata": {},
   "source": [
    "SET"
   ]
  },
  {
   "cell_type": "code",
   "execution_count": 23,
   "id": "962b19a8",
   "metadata": {},
   "outputs": [
    {
     "name": "stdout",
     "output_type": "stream",
     "text": [
      "5\n"
     ]
    }
   ],
   "source": [
    "x=\"how aew the  how are u\"\n",
    "print(len(set(x.split())))"
   ]
  },
  {
   "cell_type": "code",
   "execution_count": null,
   "id": "03b724d9",
   "metadata": {},
   "outputs": [],
   "source": []
  }
 ],
 "metadata": {
  "kernelspec": {
   "display_name": "Python 3",
   "language": "python",
   "name": "python3"
  },
  "language_info": {
   "codemirror_mode": {
    "name": "ipython",
    "version": 3
   },
   "file_extension": ".py",
   "mimetype": "text/x-python",
   "name": "python",
   "nbconvert_exporter": "python",
   "pygments_lexer": "ipython3",
   "version": "3.11.9"
  }
 },
 "nbformat": 4,
 "nbformat_minor": 5
}

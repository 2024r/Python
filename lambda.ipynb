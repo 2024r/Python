{
 "cells": [
  {
   "cell_type": "code",
   "execution_count": null,
   "id": "b969d912",
   "metadata": {},
   "outputs": [
    {
     "name": "stdout",
     "output_type": "stream",
     "text": [
      "16\n"
     ]
    }
   ],
   "source": [
    "fun= lambda x: x**2\n",
    "print(fun(4))  # Output: 16"
   ]
  },
  {
   "cell_type": "code",
   "execution_count": 4,
   "id": "5c4fe704",
   "metadata": {},
   "outputs": [
    {
     "name": "stdout",
     "output_type": "stream",
     "text": [
      "even \n",
      "odd\n"
     ]
    }
   ],
   "source": [
    "fun= lambda x:\"even \" if x%2==0 else \"odd\"\n",
    "print(fun(4))  # Output: even\n",
    "print(fun(5))  # Output: odd"
   ]
  },
  {
   "cell_type": "code",
   "execution_count": 5,
   "id": "7f03e646",
   "metadata": {},
   "outputs": [
    {
     "name": "stdout",
     "output_type": "stream",
     "text": [
      "Not Prime\n"
     ]
    }
   ],
   "source": [
    "num = int(input(\"Enter a number: \"))\n",
    "is_prime = lambda n: n > 1 and all(n % i != 0 for i in range(2, int(n**0.5) + 1))\n",
    "print(\"Prime\" if is_prime(num) else \"Not Prime\")"
   ]
  },
  {
   "cell_type": "code",
   "execution_count": 6,
   "id": "2eeae8d5",
   "metadata": {},
   "outputs": [
    {
     "name": "stdout",
     "output_type": "stream",
     "text": [
      "[1, 4, 9, 16, 25, 36, 49, 64, 81]\n"
     ]
    }
   ],
   "source": [
    "let=[1,2,3,4,5,6,7,8,9 ]\n",
    "x= list(map(lambda x: x**2, let))\n",
    "print(x)  # Output: [1, 4, 9, 16,"
   ]
  },
  {
   "cell_type": "code",
   "execution_count": 20,
   "id": "1e07f143",
   "metadata": {},
   "outputs": [
    {
     "name": "stdout",
     "output_type": "stream",
     "text": [
      "[3.14, 30775.140000000003, 28.259999999999998, 50.24, 78.5]\n"
     ]
    }
   ],
   "source": [
    "# Remove the variable named 'list' if it exists\n",
    "\n",
    "\n",
    "lsr = [1, 99, 3, 4, 5]\n",
    "area = list(map(lambda r: 3.14 * r * r, lsr))\n",
    "print(area)  # Output: [3.14, 12.56, 28.26, 50.24, 78.5]"
   ]
  },
  {
   "cell_type": "code",
   "execution_count": null,
   "id": "1bb34fc6",
   "metadata": {},
   "outputs": [],
   "source": [
    "lst=eval(input(\"Enter a list  of string: \"))"
   ]
  }
 ],
 "metadata": {
  "kernelspec": {
   "display_name": "Python 3",
   "language": "python",
   "name": "python3"
  },
  "language_info": {
   "codemirror_mode": {
    "name": "ipython",
    "version": 3
   },
   "file_extension": ".py",
   "mimetype": "text/x-python",
   "name": "python",
   "nbconvert_exporter": "python",
   "pygments_lexer": "ipython3",
   "version": "3.11.9"
  }
 },
 "nbformat": 4,
 "nbformat_minor": 5
}

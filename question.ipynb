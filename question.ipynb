{
 "cells": [
  {
   "cell_type": "markdown",
   "id": "847119ca",
   "metadata": {},
   "source": [
    "Write a program which will calculate the mean row and substract with the \n",
    "corresponding "
   ]
  },
  {
   "cell_type": "code",
   "execution_count": null,
   "id": "c80ff15e",
   "metadata": {},
   "outputs": [],
   "source": []
  },
  {
   "cell_type": "code",
   "execution_count": null,
   "metadata": {
    "vscode": {
     "languageId": "plaintext"
    }
   },
   "outputs": [],
   "source": [
    "w"
   ]
  }
 ],
 "metadata": {
  "language_info": {
   "name": "python"
  }
 },
 "nbformat": 4,
 "nbformat_minor": 5
}

{
 "cells": [
  {
   "cell_type": "code",
   "execution_count": 2,
   "id": "9b593fdd",
   "metadata": {},
   "outputs": [
    {
     "name": "stdout",
     "output_type": "stream",
     "text": [
      "ritesh\n",
      "{'age': 20, 'city': 'pune', 'degre': 'btech'}\n"
     ]
    }
   ],
   "source": [
    "d={'name': 'ritesh', 'age': 20, 'city': 'pune','degre': 'btech'}\n",
    "print(d.pop('name'))\n",
    "print(d)"
   ]
  },
  {
   "cell_type": "code",
   "execution_count": 3,
   "id": "e3a05814",
   "metadata": {},
   "outputs": [
    {
     "name": "stdout",
     "output_type": "stream",
     "text": [
      "{1: 'abc', 2: 'def', 3: 'ghi'}\n",
      "[(1, 'abc'), (2, 'def'), (3, 'ghi')]\n"
     ]
    }
   ],
   "source": [
    "my_dict = {1: 'abc', 2: 'def', 3: 'ghi'}\n",
    "print(my_dict)\n",
    "my_list = list(my_dict.items())\n",
    "print(my_list)\n"
   ]
  },
  {
   "cell_type": "code",
   "execution_count": null,
   "id": "e14044d1",
   "metadata": {},
   "outputs": [],
   "source": [
    "d2=dict((( 1, 'mango'), (2, 'grapes'), (3, 'banana')))"
   ]
  },
  {
   "cell_type": "code",
   "execution_count": null,
   "id": "ba8d3f03",
   "metadata": {},
   "outputs": [
    {
     "name": "stdout",
     "output_type": "stream",
     "text": [
      "{1: 'abc', 2: 'def', 3: 'ghi'}\n",
      "{1: 'abc', 2: 'def', 3: 'ghi'}\n",
      "{1: 'mango', 2: 'grapes', 3: 'banana'}\n"
     ]
    }
   ],
   "source": [
    "my_dict = {1: 'abc', 2: 'def', 3: 'ghi'}\n",
    "print(my_dict)\n",
    "d1=dict((( 1, 'abc'), (2, 'def'), (3, 'ghi')))\n",
    "print(d1)\n",
    "d2=dict((( 1, 'mango'), (2, 'grapes'), (3, 'banana')))\n",
    "print(d2)\n",
    "d3=dict((( (1,3,4,4), 'apple'), (2, 'orange'), (3, 'kiwi')))\n",
    "print(d3)"
   ]
  },
  {
   "cell_type": "code",
   "execution_count": null,
   "id": "c7e1b52a",
   "metadata": {},
   "outputs": [],
   "source": [
    "my_dict={'name' : 'John', 'age': 30, 'city': 'New York'}\n",
    "#my_dict['age']\n",
    "#my_dict['city']\n",
    "#print(my_dict.get('name'))\n",
    "my_dict['name'] = \" ritesh\"\n",
    "my_dict['degree'] = 'B.Tech'\n",
    "print(my_dict)"
   ]
  },
  {
   "cell_type": "code",
   "execution_count": 6,
   "id": "03f4bd20",
   "metadata": {},
   "outputs": [
    {
     "name": "stdout",
     "output_type": "stream",
     "text": [
      "{3: 9, 5: 11, 7: 8}\n"
     ]
    }
   ],
   "source": [
    "x={3: 4, 5: 6, 7: 8}\n",
    "x[3]+=5\n",
    "x[5]+=5\n",
    "print(x)"
   ]
  },
  {
   "cell_type": "code",
   "execution_count": null,
   "id": "2d866a7a",
   "metadata": {},
   "outputs": [],
   "source": [
    "lst = [1, 2, 3, 4, 5, 6, 7, 8, 9, 10, 1, 2, 3, 4, 5]\n",
    "d={}\n",
    "for i in lst:\n",
    "    d[i] =lst.count(i)\n",
    "print(d)"
   ]
  },
  {
   "cell_type": "code",
   "execution_count": null,
   "id": "d22e3a5b",
   "metadata": {},
   "outputs": [],
   "source": [
    "d={1: 'abc', 2: 'def', 3: 'ghi'}\n",
    "#print(d.popitem())\n",
    "#print(d.pop(1))\n",
    "#del d[2]\n",
    "d.clear()\n",
    "print(d)"
   ]
  },
  {
   "cell_type": "code",
   "execution_count": null,
   "id": "dadcef3f",
   "metadata": {},
   "outputs": [],
   "source": [
    " \n",
    "subjects = \n",
    "for k,v in subjects .items():\n",
    "    subjects[k] =[ i+ 1 for i in v]\n",
    "print"
   ]
  },
  {
   "cell_type": "code",
   "execution_count": null,
   "id": "a40b625d",
   "metadata": {},
   "outputs": [],
   "source": [
    "#list comprihension \n",
    "d={'a':2 , 'b':3, 'c':4}\n",
    "d1={k:v+1 for k,v in d.items()} "
   ]
  },
  {
   "cell_type": "code",
   "execution_count": 1,
   "id": "8dc1cee1",
   "metadata": {},
   "outputs": [
    {
     "name": "stdout",
     "output_type": "stream",
     "text": [
      "20\n"
     ]
    }
   ],
   "source": [
    "from math import factorial\n",
    "\n",
    "def permutation(n, r):\n",
    "    return factorial(n) // factorial(n - r)\n",
    "\n",
    "# Example usage:\n",
    "n = 5\n",
    "r = 2\n",
    "print(permutation(n, r))  # Output: 20"
   ]
  },
  {
   "cell_type": "code",
   "execution_count": 13,
   "id": "121c4f5d",
   "metadata": {},
   "outputs": [
    {
     "name": "stdout",
     "output_type": "stream",
     "text": [
      "2C5 = 1\n"
     ]
    }
   ],
   "source": [
    "def fact(n):\n",
    "    temp = 1\n",
    "    for i in range(1, n + 1):\n",
    "        temp*=1\n",
    "    return temp\n",
    "n=int(input(\"Enter a number: \"))\n",
    "r=int(input(\"Enter a number: \"))\n",
    "n_fact = fact(n)\n",
    "r_fact = fact(r)\n",
    "n_nin_r_fact = fact(n - r)\n",
    "nCr = n_fact // (r_fact * n_nin_r_fact)\n",
    "print(f\"{n}C{r} = {nCr}\")  # Output: nCr value\n",
    "\n",
    "\n",
    "        "
   ]
  },
  {
   "cell_type": "code",
   "execution_count": 14,
   "id": "7de7c359",
   "metadata": {},
   "outputs": [
    {
     "name": "stdout",
     "output_type": "stream",
     "text": [
      "your name is rieshskmww3\n",
      "your age is 123\n"
     ]
    }
   ],
   "source": [
    "def print_info(name,id, age ):\n",
    "    print(\"your name is\", name + id)\n",
    "    print(\"your age is\", age)\n",
    "print_info( name=\"riesh\",age= 123,id=\"skmww3\" )\n",
    "\n",
    "\n"
   ]
  },
  {
   "cell_type": "code",
   "execution_count": 15,
   "id": "c7c53245",
   "metadata": {},
   "outputs": [
    {
     "name": "stdout",
     "output_type": "stream",
     "text": [
      "15\n",
      "60\n"
     ]
    }
   ],
   "source": [
    "def add(* temp):\n",
    "    x=0\n",
    "    for i in temp:\n",
    "        x+=i\n",
    "    print(x)\n",
    "add(1, 2, 3, 4, 5)  # Output: 15    \n",
    "add(10, 20, 30)  # Output: 60"
   ]
  },
  {
   "cell_type": "code",
   "execution_count": null,
   "id": "111a4a07",
   "metadata": {},
   "outputs": [],
   "source": []
  }
 ],
 "metadata": {
  "kernelspec": {
   "display_name": "Python 3",
   "language": "python",
   "name": "python3"
  },
  "language_info": {
   "codemirror_mode": {
    "name": "ipython",
    "version": 3
   },
   "file_extension": ".py",
   "mimetype": "text/x-python",
   "name": "python",
   "nbconvert_exporter": "python",
   "pygments_lexer": "ipython3",
   "version": "3.11.9"
  }
 },
 "nbformat": 4,
 "nbformat_minor": 5
}

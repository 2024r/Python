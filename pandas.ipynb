{
 "cells": [
  {
   "cell_type": "code",
   "execution_count": 1,
   "id": "ad20aeb0",
   "metadata": {},
   "outputs": [
    {
     "name": "stdout",
     "output_type": "stream",
     "text": [
      "Collecting pandas\n",
      "  Downloading pandas-2.3.1-cp311-cp311-win_amd64.whl.metadata (19 kB)\n",
      "Requirement already satisfied: numpy>=1.23.2 in c:\\users\\user\\appdata\\local\\packages\\pythonsoftwarefoundation.python.3.11_qbz5n2kfra8p0\\localcache\\local-packages\\python311\\site-packages (from pandas) (2.3.1)\n",
      "Requirement already satisfied: python-dateutil>=2.8.2 in c:\\users\\user\\appdata\\local\\packages\\pythonsoftwarefoundation.python.3.11_qbz5n2kfra8p0\\localcache\\local-packages\\python311\\site-packages (from pandas) (2.9.0.post0)\n",
      "Collecting pytz>=2020.1 (from pandas)\n",
      "  Downloading pytz-2025.2-py2.py3-none-any.whl.metadata (22 kB)\n",
      "Collecting tzdata>=2022.7 (from pandas)\n",
      "  Downloading tzdata-2025.2-py2.py3-none-any.whl.metadata (1.4 kB)\n",
      "Requirement already satisfied: six>=1.5 in c:\\users\\user\\appdata\\local\\packages\\pythonsoftwarefoundation.python.3.11_qbz5n2kfra8p0\\localcache\\local-packages\\python311\\site-packages (from python-dateutil>=2.8.2->pandas) (1.17.0)\n",
      "Downloading pandas-2.3.1-cp311-cp311-win_amd64.whl (11.3 MB)\n",
      "   ---------------------------------------- 0.0/11.3 MB ? eta -:--:--\n",
      "   ---------------------------------------- 0.0/11.3 MB ? eta -:--:--\n",
      "   ---------------------------------------- 0.0/11.3 MB 653.6 kB/s eta 0:00:18\n",
      "   ---------------------------------------- 0.1/11.3 MB 651.6 kB/s eta 0:00:18\n",
      "   ---------------------------------------- 0.1/11.3 MB 655.4 kB/s eta 0:00:18\n",
      "   ---------------------------------------- 0.1/11.3 MB 655.4 kB/s eta 0:00:18\n",
      "   ---------------------------------------- 0.1/11.3 MB 655.4 kB/s eta 0:00:18\n",
      "   ---------------------------------------- 0.1/11.3 MB 655.4 kB/s eta 0:00:18\n",
      "   ---------------------------------------- 0.1/11.3 MB 655.4 kB/s eta 0:00:18\n",
      "   ---------------------------------------- 0.1/11.3 MB 655.4 kB/s eta 0:00:18\n",
      "   ---------------------------------------- 0.1/11.3 MB 655.4 kB/s eta 0:00:18\n",
      "   ---------------------------------------- 0.1/11.3 MB 655.4 kB/s eta 0:00:18\n",
      "   ---------------------------------------- 0.1/11.3 MB 655.4 kB/s eta 0:00:18\n",
      "   ---------------------------------------- 0.1/11.3 MB 172.4 kB/s eta 0:01:06\n",
      "   ---------------------------------------- 0.1/11.3 MB 172.4 kB/s eta 0:01:06\n",
      "   ---------------------------------------- 0.1/11.3 MB 172.4 kB/s eta 0:01:06\n",
      "   ---------------------------------------- 0.1/11.3 MB 172.4 kB/s eta 0:01:06\n",
      "   ---------------------------------------- 0.1/11.3 MB 172.4 kB/s eta 0:01:06\n",
      "   ---------------------------------------- 0.1/11.3 MB 172.4 kB/s eta 0:01:06\n",
      "   ---------------------------------------- 0.1/11.3 MB 172.4 kB/s eta 0:01:06\n",
      "   ---------------------------------------- 0.1/11.3 MB 172.4 kB/s eta 0:01:06\n",
      "   ---------------------------------------- 0.1/11.3 MB 172.4 kB/s eta 0:01:06\n",
      "    --------------------------------------- 0.1/11.3 MB 133.1 kB/s eta 0:01:25\n",
      "    --------------------------------------- 0.3/11.3 MB 234.7 kB/s eta 0:00:48\n",
      "   - -------------------------------------- 0.3/11.3 MB 290.2 kB/s eta 0:00:38\n",
      "   - -------------------------------------- 0.4/11.3 MB 332.1 kB/s eta 0:00:33\n",
      "   - -------------------------------------- 0.5/11.3 MB 374.2 kB/s eta 0:00:30\n",
      "   - -------------------------------------- 0.5/11.3 MB 422.9 kB/s eta 0:00:26\n",
      "   -- ------------------------------------- 0.6/11.3 MB 465.8 kB/s eta 0:00:24\n",
      "   -- ------------------------------------- 0.7/11.3 MB 510.5 kB/s eta 0:00:21\n",
      "   -- ------------------------------------- 0.8/11.3 MB 552.1 kB/s eta 0:00:20\n",
      "   --- ------------------------------------ 0.9/11.3 MB 591.0 kB/s eta 0:00:18\n",
      "   --- ------------------------------------ 0.9/11.3 MB 627.5 kB/s eta 0:00:17\n",
      "   --- ------------------------------------ 1.0/11.3 MB 628.1 kB/s eta 0:00:17\n",
      "   --- ------------------------------------ 1.1/11.3 MB 674.5 kB/s eta 0:00:16\n",
      "   --- ------------------------------------ 1.1/11.3 MB 680.5 kB/s eta 0:00:16\n",
      "   ---- ----------------------------------- 1.3/11.3 MB 746.2 kB/s eta 0:00:14\n",
      "   ---- ----------------------------------- 1.4/11.3 MB 773.2 kB/s eta 0:00:13\n",
      "   ---- ----------------------------------- 1.4/11.3 MB 780.7 kB/s eta 0:00:13\n",
      "   ----- ---------------------------------- 1.5/11.3 MB 788.5 kB/s eta 0:00:13\n",
      "   ----- ---------------------------------- 1.6/11.3 MB 844.8 kB/s eta 0:00:12\n",
      "   ----- ---------------------------------- 1.7/11.3 MB 866.5 kB/s eta 0:00:12\n",
      "   ----- ---------------------------------- 1.7/11.3 MB 866.5 kB/s eta 0:00:12\n",
      "   ------ --------------------------------- 1.8/11.3 MB 860.4 kB/s eta 0:00:12\n",
      "   ------ --------------------------------- 1.9/11.3 MB 894.9 kB/s eta 0:00:11\n",
      "   ------ --------------------------------- 1.9/11.3 MB 910.8 kB/s eta 0:00:11\n",
      "   ------- -------------------------------- 2.0/11.3 MB 930.5 kB/s eta 0:00:11\n",
      "   ------- -------------------------------- 2.2/11.3 MB 975.7 kB/s eta 0:00:10\n",
      "   ------- -------------------------------- 2.2/11.3 MB 982.9 kB/s eta 0:00:10\n",
      "   -------- ------------------------------- 2.3/11.3 MB 991.7 kB/s eta 0:00:10\n",
      "   -------- ------------------------------- 2.4/11.3 MB 1.0 MB/s eta 0:00:09\n",
      "   -------- ------------------------------- 2.5/11.3 MB 1.0 MB/s eta 0:00:09\n",
      "   -------- ------------------------------- 2.5/11.3 MB 1.0 MB/s eta 0:00:09\n",
      "   --------- ------------------------------ 2.7/11.3 MB 1.1 MB/s eta 0:00:09\n",
      "   --------- ------------------------------ 2.7/11.3 MB 1.1 MB/s eta 0:00:09\n",
      "   --------- ------------------------------ 2.8/11.3 MB 1.1 MB/s eta 0:00:08\n",
      "   --------- ------------------------------ 2.8/11.3 MB 1.1 MB/s eta 0:00:08\n",
      "   ---------- ----------------------------- 3.0/11.3 MB 1.1 MB/s eta 0:00:08\n",
      "   ---------- ----------------------------- 3.1/11.3 MB 1.1 MB/s eta 0:00:08\n",
      "   ---------- ----------------------------- 3.1/11.3 MB 1.1 MB/s eta 0:00:08\n",
      "   ----------- ---------------------------- 3.2/11.3 MB 1.1 MB/s eta 0:00:08\n",
      "   ----------- ---------------------------- 3.4/11.3 MB 1.2 MB/s eta 0:00:07\n",
      "   ------------ --------------------------- 3.4/11.3 MB 1.2 MB/s eta 0:00:07\n",
      "   ------------ --------------------------- 3.4/11.3 MB 1.2 MB/s eta 0:00:07\n",
      "   ------------ --------------------------- 3.4/11.3 MB 1.2 MB/s eta 0:00:07\n",
      "   ------------- -------------------------- 3.7/11.3 MB 1.2 MB/s eta 0:00:07\n",
      "   ------------- -------------------------- 3.8/11.3 MB 1.2 MB/s eta 0:00:07\n",
      "   ------------- -------------------------- 3.8/11.3 MB 1.2 MB/s eta 0:00:07\n",
      "   ------------- -------------------------- 3.9/11.3 MB 1.2 MB/s eta 0:00:07\n",
      "   -------------- ------------------------- 4.0/11.3 MB 1.2 MB/s eta 0:00:06\n",
      "   -------------- ------------------------- 4.0/11.3 MB 1.2 MB/s eta 0:00:06\n",
      "   -------------- ------------------------- 4.0/11.3 MB 1.2 MB/s eta 0:00:06\n",
      "   -------------- ------------------------- 4.1/11.3 MB 1.2 MB/s eta 0:00:07\n",
      "   -------------- ------------------------- 4.1/11.3 MB 1.2 MB/s eta 0:00:07\n",
      "   --------------- ------------------------ 4.3/11.3 MB 1.2 MB/s eta 0:00:06\n",
      "   --------------- ------------------------ 4.4/11.3 MB 1.3 MB/s eta 0:00:06\n",
      "   --------------- ------------------------ 4.5/11.3 MB 1.3 MB/s eta 0:00:06\n",
      "   ---------------- ----------------------- 4.6/11.3 MB 1.3 MB/s eta 0:00:06\n",
      "   ---------------- ----------------------- 4.7/11.3 MB 1.3 MB/s eta 0:00:06\n",
      "   ----------------- ---------------------- 4.9/11.3 MB 1.3 MB/s eta 0:00:05\n",
      "   ----------------- ---------------------- 4.9/11.3 MB 1.3 MB/s eta 0:00:05\n",
      "   ----------------- ---------------------- 5.0/11.3 MB 1.3 MB/s eta 0:00:05\n",
      "   ----------------- ---------------------- 5.1/11.3 MB 1.3 MB/s eta 0:00:05\n",
      "   ------------------ --------------------- 5.2/11.3 MB 1.3 MB/s eta 0:00:05\n",
      "   ------------------ --------------------- 5.3/11.3 MB 1.3 MB/s eta 0:00:05\n",
      "   ------------------ --------------------- 5.3/11.3 MB 1.3 MB/s eta 0:00:05\n",
      "   ------------------- -------------------- 5.4/11.3 MB 1.3 MB/s eta 0:00:05\n",
      "   ------------------- -------------------- 5.5/11.3 MB 1.3 MB/s eta 0:00:05\n",
      "   ------------------- -------------------- 5.6/11.3 MB 1.4 MB/s eta 0:00:05\n",
      "   -------------------- ------------------- 5.7/11.3 MB 1.4 MB/s eta 0:00:05\n",
      "   -------------------- ------------------- 5.7/11.3 MB 1.4 MB/s eta 0:00:05\n",
      "   -------------------- ------------------- 5.7/11.3 MB 1.4 MB/s eta 0:00:05\n",
      "   -------------------- ------------------- 5.7/11.3 MB 1.4 MB/s eta 0:00:05\n",
      "   -------------------- ------------------- 5.7/11.3 MB 1.3 MB/s eta 0:00:05\n",
      "   -------------------- ------------------- 5.7/11.3 MB 1.3 MB/s eta 0:00:05\n",
      "   -------------------- ------------------- 5.7/11.3 MB 1.3 MB/s eta 0:00:05\n",
      "   -------------------- ------------------- 5.7/11.3 MB 1.3 MB/s eta 0:00:05\n",
      "   -------------------- ------------------- 5.7/11.3 MB 1.3 MB/s eta 0:00:05\n",
      "   --------------------- ------------------ 6.1/11.3 MB 1.3 MB/s eta 0:00:04\n",
      "   --------------------- ------------------ 6.1/11.3 MB 1.3 MB/s eta 0:00:04\n",
      "   --------------------- ------------------ 6.2/11.3 MB 1.3 MB/s eta 0:00:04\n",
      "   ---------------------- ----------------- 6.5/11.3 MB 1.4 MB/s eta 0:00:04\n",
      "   ---------------------- ----------------- 6.5/11.3 MB 1.4 MB/s eta 0:00:04\n",
      "   ----------------------- ---------------- 6.5/11.3 MB 1.3 MB/s eta 0:00:04\n",
      "   ----------------------- ---------------- 6.5/11.3 MB 1.3 MB/s eta 0:00:04\n",
      "   ----------------------- ---------------- 6.5/11.3 MB 1.3 MB/s eta 0:00:04\n",
      "   ----------------------- ---------------- 6.6/11.3 MB 1.3 MB/s eta 0:00:04\n",
      "   ----------------------- ---------------- 6.6/11.3 MB 1.3 MB/s eta 0:00:04\n",
      "   ----------------------- ---------------- 6.7/11.3 MB 1.3 MB/s eta 0:00:04\n",
      "   ----------------------- ---------------- 6.7/11.3 MB 1.3 MB/s eta 0:00:04\n",
      "   ------------------------ --------------- 7.0/11.3 MB 1.3 MB/s eta 0:00:04\n",
      "   ------------------------ --------------- 7.0/11.3 MB 1.3 MB/s eta 0:00:04\n",
      "   ------------------------ --------------- 7.0/11.3 MB 1.3 MB/s eta 0:00:04\n",
      "   ------------------------ --------------- 7.0/11.3 MB 1.3 MB/s eta 0:00:04\n",
      "   ------------------------ --------------- 7.1/11.3 MB 1.3 MB/s eta 0:00:04\n",
      "   ------------------------- -------------- 7.2/11.3 MB 1.3 MB/s eta 0:00:04\n",
      "   ------------------------- -------------- 7.2/11.3 MB 1.3 MB/s eta 0:00:04\n",
      "   ------------------------- -------------- 7.2/11.3 MB 1.3 MB/s eta 0:00:04\n",
      "   -------------------------- ------------- 7.4/11.3 MB 1.3 MB/s eta 0:00:04\n",
      "   -------------------------- ------------- 7.4/11.3 MB 1.3 MB/s eta 0:00:04\n",
      "   -------------------------- ------------- 7.4/11.3 MB 1.3 MB/s eta 0:00:04\n",
      "   -------------------------- ------------- 7.6/11.3 MB 1.3 MB/s eta 0:00:03\n",
      "   --------------------------- ------------ 7.7/11.3 MB 1.3 MB/s eta 0:00:03\n",
      "   --------------------------- ------------ 7.8/11.3 MB 1.3 MB/s eta 0:00:03\n",
      "   --------------------------- ------------ 7.8/11.3 MB 1.3 MB/s eta 0:00:03\n",
      "   ---------------------------- ----------- 8.0/11.3 MB 1.3 MB/s eta 0:00:03\n",
      "   ---------------------------- ----------- 8.1/11.3 MB 1.3 MB/s eta 0:00:03\n",
      "   ---------------------------- ----------- 8.2/11.3 MB 1.3 MB/s eta 0:00:03\n",
      "   ---------------------------- ----------- 8.2/11.3 MB 1.3 MB/s eta 0:00:03\n",
      "   ----------------------------- ---------- 8.3/11.3 MB 1.4 MB/s eta 0:00:03\n",
      "   ----------------------------- ---------- 8.3/11.3 MB 1.4 MB/s eta 0:00:03\n",
      "   ----------------------------- ---------- 8.3/11.3 MB 1.3 MB/s eta 0:00:03\n",
      "   ----------------------------- ---------- 8.4/11.3 MB 1.3 MB/s eta 0:00:03\n",
      "   ----------------------------- ---------- 8.4/11.3 MB 1.3 MB/s eta 0:00:03\n",
      "   ----------------------------- ---------- 8.5/11.3 MB 1.3 MB/s eta 0:00:03\n",
      "   ----------------------------- ---------- 8.5/11.3 MB 1.3 MB/s eta 0:00:03\n",
      "   ----------------------------- ---------- 8.5/11.3 MB 1.3 MB/s eta 0:00:03\n",
      "   ------------------------------ --------- 8.5/11.3 MB 1.3 MB/s eta 0:00:03\n",
      "   ------------------------------ --------- 8.5/11.3 MB 1.3 MB/s eta 0:00:03\n",
      "   ------------------------------ --------- 8.5/11.3 MB 1.3 MB/s eta 0:00:03\n",
      "   ------------------------------ --------- 8.5/11.3 MB 1.3 MB/s eta 0:00:03\n",
      "   ------------------------------ --------- 8.5/11.3 MB 1.3 MB/s eta 0:00:03\n",
      "   ------------------------------ --------- 8.5/11.3 MB 1.3 MB/s eta 0:00:03\n",
      "   ------------------------------ --------- 8.6/11.3 MB 1.3 MB/s eta 0:00:03\n",
      "   ------------------------------ --------- 8.6/11.3 MB 1.3 MB/s eta 0:00:03\n",
      "   ------------------------------ --------- 8.6/11.3 MB 1.3 MB/s eta 0:00:03\n",
      "   ------------------------------ --------- 8.8/11.3 MB 1.3 MB/s eta 0:00:03\n",
      "   ------------------------------ --------- 8.8/11.3 MB 1.3 MB/s eta 0:00:03\n",
      "   ------------------------------- -------- 8.9/11.3 MB 1.3 MB/s eta 0:00:02\n",
      "   ------------------------------- -------- 9.0/11.3 MB 1.3 MB/s eta 0:00:02\n",
      "   -------------------------------- ------- 9.2/11.3 MB 1.3 MB/s eta 0:00:02\n",
      "   -------------------------------- ------- 9.2/11.3 MB 1.3 MB/s eta 0:00:02\n",
      "   -------------------------------- ------- 9.2/11.3 MB 1.3 MB/s eta 0:00:02\n",
      "   --------------------------------- ------ 9.4/11.3 MB 1.3 MB/s eta 0:00:02\n",
      "   --------------------------------- ------ 9.4/11.3 MB 1.3 MB/s eta 0:00:02\n",
      "   --------------------------------- ------ 9.5/11.3 MB 1.3 MB/s eta 0:00:02\n",
      "   --------------------------------- ------ 9.5/11.3 MB 1.3 MB/s eta 0:00:02\n",
      "   --------------------------------- ------ 9.5/11.3 MB 1.3 MB/s eta 0:00:02\n",
      "   --------------------------------- ------ 9.5/11.3 MB 1.3 MB/s eta 0:00:02\n",
      "   ---------------------------------- ----- 9.8/11.3 MB 1.3 MB/s eta 0:00:02\n",
      "   ---------------------------------- ----- 9.8/11.3 MB 1.3 MB/s eta 0:00:02\n",
      "   ----------------------------------- ---- 9.9/11.3 MB 1.3 MB/s eta 0:00:02\n",
      "   ----------------------------------- ---- 10.1/11.3 MB 1.3 MB/s eta 0:00:01\n",
      "   ----------------------------------- ---- 10.1/11.3 MB 1.3 MB/s eta 0:00:01\n",
      "   ----------------------------------- ---- 10.1/11.3 MB 1.3 MB/s eta 0:00:01\n",
      "   ----------------------------------- ---- 10.1/11.3 MB 1.3 MB/s eta 0:00:01\n",
      "   ------------------------------------ --- 10.4/11.3 MB 1.5 MB/s eta 0:00:01\n",
      "   ------------------------------------ --- 10.4/11.3 MB 1.5 MB/s eta 0:00:01\n",
      "   ------------------------------------- -- 10.5/11.3 MB 1.5 MB/s eta 0:00:01\n",
      "   ------------------------------------- -- 10.6/11.3 MB 1.5 MB/s eta 0:00:01\n",
      "   ------------------------------------- -- 10.6/11.3 MB 1.5 MB/s eta 0:00:01\n",
      "   ------------------------------------- -- 10.8/11.3 MB 1.5 MB/s eta 0:00:01\n",
      "   ------------------------------------- -- 10.8/11.3 MB 1.5 MB/s eta 0:00:01\n",
      "   ---------------------------------------  11.1/11.3 MB 1.5 MB/s eta 0:00:01\n",
      "   ---------------------------------------  11.1/11.3 MB 1.5 MB/s eta 0:00:01\n",
      "   ---------------------------------------  11.3/11.3 MB 1.5 MB/s eta 0:00:01\n",
      "   ---------------------------------------  11.3/11.3 MB 1.5 MB/s eta 0:00:01\n",
      "   ---------------------------------------  11.3/11.3 MB 1.5 MB/s eta 0:00:01\n",
      "   ---------------------------------------- 11.3/11.3 MB 1.5 MB/s eta 0:00:00\n",
      "Downloading pytz-2025.2-py2.py3-none-any.whl (509 kB)\n",
      "   ---------------------------------------- 0.0/509.2 kB ? eta -:--:--\n",
      "   ---- ----------------------------------- 61.4/509.2 kB 1.7 MB/s eta 0:00:01\n",
      "   --------- ------------------------------ 122.9/509.2 kB 1.4 MB/s eta 0:00:01\n",
      "   --------- ---------------------------- 133.1/509.2 kB 871.5 kB/s eta 0:00:01\n",
      "   ------------------------- -------------- 327.7/509.2 kB 1.6 MB/s eta 0:00:01\n",
      "   ------------------------------- -------- 399.4/509.2 kB 1.7 MB/s eta 0:00:01\n",
      "   ------------------------------------- -- 481.3/509.2 kB 1.8 MB/s eta 0:00:01\n",
      "   ---------------------------------------- 509.2/509.2 kB 1.7 MB/s eta 0:00:00\n",
      "Downloading tzdata-2025.2-py2.py3-none-any.whl (347 kB)\n",
      "   ---------------------------------------- 0.0/347.8 kB ? eta -:--:--\n",
      "   ------- -------------------------------- 61.4/347.8 kB 1.6 MB/s eta 0:00:01\n",
      "   ---------------- ----------------------- 143.4/347.8 kB 1.7 MB/s eta 0:00:01\n",
      "   ----------------------- ---------------- 204.8/347.8 kB 1.8 MB/s eta 0:00:01\n",
      "   --------------------------- ------------ 235.5/347.8 kB 1.6 MB/s eta 0:00:01\n",
      "   -------------------------------------- - 337.9/347.8 kB 1.6 MB/s eta 0:00:01\n",
      "   ---------------------------------------- 347.8/347.8 kB 1.5 MB/s eta 0:00:00\n",
      "Installing collected packages: pytz, tzdata, pandas\n",
      "Successfully installed pandas-2.3.1 pytz-2025.2 tzdata-2025.2\n"
     ]
    },
    {
     "name": "stderr",
     "output_type": "stream",
     "text": [
      "\n",
      "[notice] A new release of pip is available: 24.0 -> 25.1.1\n",
      "[notice] To update, run: C:\\Users\\user\\AppData\\Local\\Microsoft\\WindowsApps\\PythonSoftwareFoundation.Python.3.11_qbz5n2kfra8p0\\python.exe -m pip install --upgrade pip\n"
     ]
    }
   ],
   "source": [
    "! pip3 install pandas"
   ]
  },
  {
   "cell_type": "code",
   "execution_count": 3,
   "id": "baba6902",
   "metadata": {},
   "outputs": [],
   "source": [
    "import pandas as pd\n",
    "import numpy as np\n"
   ]
  },
  {
   "cell_type": "code",
   "execution_count": 12,
   "id": "0a478c7f",
   "metadata": {},
   "outputs": [
    {
     "ename": "AttributeError",
     "evalue": "module 'numpy' has no attribute 'randaom'",
     "output_type": "error",
     "traceback": [
      "\u001b[31m---------------------------------------------------------------------------\u001b[39m",
      "\u001b[31mAttributeError\u001b[39m                            Traceback (most recent call last)",
      "\u001b[36mCell\u001b[39m\u001b[36m \u001b[39m\u001b[32mIn[12]\u001b[39m\u001b[32m, line 1\u001b[39m\n\u001b[32m----> \u001b[39m\u001b[32m1\u001b[39m Series1=pd.Series(\u001b[43mnp\u001b[49m\u001b[43m.\u001b[49m\u001b[43mrandaom\u001b[49m.randn(\u001b[32m4\u001b[39m))\n\u001b[32m      2\u001b[39m s2=pd.Series([\u001b[32m1\u001b[39m,\u001b[32m2\u001b[39m,\u001b[32m3\u001b[39m,\u001b[32m4\u001b[39m,\u001b[33m\"\u001b[39m\u001b[33mhello\u001b[39m\u001b[33m\"\u001b[39m,\u001b[32m1\u001b[39m,\u001b[32m34\u001b[39m])\n\u001b[32m      3\u001b[39m \u001b[38;5;28mprint\u001b[39m(s2)\n",
      "\u001b[36mFile \u001b[39m\u001b[32m~\\AppData\\Local\\Packages\\PythonSoftwareFoundation.Python.3.11_qbz5n2kfra8p0\\LocalCache\\local-packages\\Python311\\site-packages\\numpy\\__init__.py:808\u001b[39m, in \u001b[36m__getattr__\u001b[39m\u001b[34m(attr)\u001b[39m\n\u001b[32m    805\u001b[39m     \u001b[38;5;28;01mimport\u001b[39;00m\u001b[38;5;250m \u001b[39m\u001b[34;01mnumpy\u001b[39;00m\u001b[34;01m.\u001b[39;00m\u001b[34;01mchar\u001b[39;00m\u001b[38;5;250m \u001b[39m\u001b[38;5;28;01mas\u001b[39;00m\u001b[38;5;250m \u001b[39m\u001b[34;01mchar\u001b[39;00m\n\u001b[32m    806\u001b[39m     \u001b[38;5;28;01mreturn\u001b[39;00m char.chararray\n\u001b[32m--> \u001b[39m\u001b[32m808\u001b[39m \u001b[38;5;28;01mraise\u001b[39;00m \u001b[38;5;167;01mAttributeError\u001b[39;00m(\u001b[33mf\u001b[39m\u001b[33m\"\u001b[39m\u001b[33mmodule \u001b[39m\u001b[38;5;132;01m{\u001b[39;00m\u001b[34m__name__\u001b[39m\u001b[38;5;132;01m!r}\u001b[39;00m\u001b[33m has no attribute \u001b[39m\u001b[38;5;132;01m{\u001b[39;00mattr\u001b[38;5;132;01m!r}\u001b[39;00m\u001b[33m\"\u001b[39m)\n",
      "\u001b[31mAttributeError\u001b[39m: module 'numpy' has no attribute 'randaom'"
     ]
    }
   ],
   "source": [
    "Series1=pd.Series(np.randaom.randn(4))\n",
    "s2=pd.Series([1,2,3,4,\"hello\",1,34])\n",
    "print(s2)\n",
    "print(Series1)\n",
    "print(Series1.index())"
   ]
  },
  {
   "cell_type": "code",
   "execution_count": 13,
   "id": "b91f1744",
   "metadata": {},
   "outputs": [
    {
     "name": "stdout",
     "output_type": "stream",
     "text": [
      "0        1\n",
      "1        2\n",
      "2        3\n",
      "3        4\n",
      "4    hello\n",
      "5        1\n",
      "6       34\n",
      "dtype: object\n",
      "0    1.702113\n",
      "1    1.299844\n",
      "2   -1.065796\n",
      "3   -2.573086\n",
      "dtype: float64\n",
      "RangeIndex(start=0, stop=4, step=1)\n"
     ]
    }
   ],
   "source": [
    "import pandas as pd\n",
    "import numpy as np\n",
    "\n",
    "Series1 = pd.Series(np.random.randn(4))\n",
    "s2 = pd.Series([1,2,3,4,\"hello\",1,34])\n",
    "\n",
    "print(s2)\n",
    "print(Series1)\n",
    "print(Series1.index)  # No parentheses!\n"
   ]
  },
  {
   "cell_type": "code",
   "execution_count": null,
   "id": "ccb55c5e",
   "metadata": {},
   "outputs": [],
   "source": [
    "dict={'m':1,'y':2004,'d':'sunday'}\n",
    "Series3=pd.Series(dict)\n",
    "print(Series3)\n",
    "\n"
   ]
  },
  {
   "cell_type": "markdown",
   "id": "3d5b861a",
   "metadata": {},
   "source": [
    "creating a list from scaler value \n"
   ]
  },
  {
   "cell_type": "code",
   "execution_count": null,
   "id": "8db7a512",
   "metadata": {},
   "outputs": [],
   "source": [
    "print('creting a series from the scaler value ')"
   ]
  },
  {
   "cell_type": "code",
   "execution_count": null,
   "id": "78793060",
   "metadata": {},
   "outputs": [],
   "source": [
    "print('Series1')\n",
    "print(Series1)\n",
    "\n",
    "#series sample  opertion \n",
    "print('\\n mean:',series1.mean())#calculate  the mean of the value of the  series\n",
    "\n",
    " \n",
    "print('\\n median:',Series1.median())#calculate the median of the value of the series\n",
    "\n",
    "\n",
    "print('\\n max:',Series1.max())#calculate the max of the value of the series\n",
    "\n",
    "print('\\n min:',Series1.min())#calculate the min of the value of the series\n",
    "\n",
    "print('\\n sum:',Series1.sum())#calculate the sum of the value of the series\n",
    "\n",
    "Series2=pd.Series([1,2,3,4,5,6,7,8,9,10])\n",
    "print('\\n Series2:')"
   ]
  },
  {
   "cell_type": "markdown",
   "id": "e0b81725",
   "metadata": {},
   "source": [
    "mathematical opertion \n"
   ]
  },
  {
   "cell_type": "code",
   "execution_count": 14,
   "id": "f38e97aa",
   "metadata": {},
   "outputs": [
    {
     "name": "stdout",
     "output_type": "stream",
     "text": [
      "Addition:\n",
      " 0     3\n",
      "1     7\n",
      "2    11\n",
      "3    15\n",
      "4    19\n",
      "dtype: int64\n",
      "Subtraction:\n",
      " 0    1\n",
      "1    1\n",
      "2    1\n",
      "3    1\n",
      "4    1\n",
      "dtype: int64\n",
      "Multiplication:\n",
      " 0     2\n",
      "1    12\n",
      "2    30\n",
      "3    56\n",
      "4    90\n",
      "dtype: int64\n",
      "Division:\n",
      " 0    2.000000\n",
      "1    1.333333\n",
      "2    1.200000\n",
      "3    1.142857\n",
      "4    1.111111\n",
      "dtype: float64\n",
      "Exponentiation:\n",
      " 0      4\n",
      "1     16\n",
      "2     36\n",
      "3     64\n",
      "4    100\n",
      "dtype: int64\n",
      "Square Root:\n",
      " 0    1.414214\n",
      "1    2.000000\n",
      "2    2.449490\n",
      "3    2.828427\n",
      "4    3.162278\n",
      "dtype: float64\n",
      "Cumulative Sum:\n",
      " 0     2\n",
      "1     6\n",
      "2    12\n",
      "3    20\n",
      "4    30\n",
      "dtype: int64\n",
      "Cumulative Product:\n",
      " 0       2\n",
      "1       8\n",
      "2      48\n",
      "3     384\n",
      "4    3840\n",
      "dtype: int64\n"
     ]
    }
   ],
   "source": [
    "import pandas as pd\n",
    "\n",
    "# Create sample Series\n",
    "s1 = pd.Series([2, 4, 6, 8, 10])\n",
    "s2 = pd.Series([1, 3, 5, 7, 9])\n",
    "\n",
    "# Addition\n",
    "print(\"Addition:\\n\", s1 + s2)\n",
    "\n",
    "# Subtraction\n",
    "print(\"Subtraction:\\n\", s1 - s2)\n",
    "\n",
    "# Multiplication\n",
    "print(\"Multiplication:\\n\", s1 * s2)\n",
    "\n",
    "# Division\n",
    "print(\"Division:\\n\", s1 / s2)\n",
    "# Exponentiation\n",
    "\n",
    "print(\"Exponentiation:\\n\", s1 ** 2)\n",
    "\n",
    "#square root\n",
    "print(\"Square Root:\\n\", s1 ** 0.5)\n",
    "\n",
    "#cumalative sum\n",
    "print(\"Cumulative Sum:\\n\", s1.cumsum())\n",
    "\n",
    "# Cumulative product    \n",
    "print(\"Cumulative Product:\\n\", s1.cumprod())    \n"
   ]
  },
  {
   "cell_type": "code",
   "execution_count": 15,
   "id": "7262b1fd",
   "metadata": {},
   "outputs": [
    {
     "name": "stdout",
     "output_type": "stream",
     "text": [
      "a    1\n",
      "b    2\n",
      "c    3\n",
      "d    4\n",
      "dtype: int64\n",
      "\n",
      " addition\n",
      "a    2\n",
      "b    4\n",
      "c    6\n",
      "d    8\n",
      "dtype: int64\n",
      "\n",
      " subtraction\n",
      "a    0\n",
      "b    0\n",
      "c    0\n",
      "d    0\n",
      "dtype: int64\n",
      "\n",
      " multiplication\n",
      "a     1\n",
      "b     4\n",
      "c     9\n",
      "d    16\n",
      "dtype: int64\n",
      "\n",
      " division\n",
      "a    1.0\n",
      "b    1.0\n",
      "c    1.0\n",
      "d    1.0\n",
      "dtype: float64\n",
      "\n",
      " power\n",
      "a      1\n",
      "b      4\n",
      "c     27\n",
      "d    256\n",
      "dtype: int64\n",
      "\n",
      " square root\n",
      "a    1.000000\n",
      "b    1.414214\n",
      "c    1.732051\n",
      "d    2.000000\n",
      "dtype: float64\n",
      "\n",
      " square\n",
      "a     1\n",
      "b     4\n",
      "c     9\n",
      "d    16\n",
      "dtype: int64\n",
      "\n",
      " cube\n",
      "a     1\n",
      "b     8\n",
      "c    27\n",
      "d    64\n",
      "dtype: int64\n"
     ]
    }
   ],
   "source": [
    "s1=pd.Series([1,2,3,4] ,index=['a','b','c','d'])\n",
    "print(s1)\n",
    "\n",
    "print (\"\\n addition\")\n",
    "print (s1+s1)\n",
    "print (\"\\n subtraction\")\n",
    "print (s1-s1)\n",
    "print (\"\\n multiplication\")\n",
    "print (s1*s1)\n",
    "print (\"\\n division\")\n",
    "print (s1/s1)\n",
    "print (\"\\n power\")\n",
    "print (s1**s1)\n",
    "print (\"\\n square root\")\n",
    "print (s1**0.5) \n",
    "print (\"\\n square\")\n",
    "print (s1**2)\n",
    "print (\"\\n cube\")\n",
    "print (s1**3)\n"
   ]
  },
  {
   "cell_type": "markdown",
   "id": "0d884003",
   "metadata": {},
   "source": [
    "values  and index\n"
   ]
  },
  {
   "cell_type": "code",
   "execution_count": 16,
   "id": "d039f1c5",
   "metadata": {},
   "outputs": [
    {
     "name": "stdout",
     "output_type": "stream",
     "text": [
      "[1 2 3 4]\n",
      "Index(['a', 'b', 'c', 'd'], dtype='object')\n"
     ]
    }
   ],
   "source": [
    "s=pd.Series([1,2,3,4] ,index=['a','b','c','d'])\n",
    "print(s.values)  # Accessing values of the Series\n",
    "print(s.index)   # Accessing index of the Series"
   ]
  },
  {
   "cell_type": "code",
   "execution_count": null,
   "id": "932125f8",
   "metadata": {},
   "outputs": [],
   "source": [
    "s=pd.Series([1,2,3,4] ,index=['a','b','c','d'])\n",
    "print(s.dtypes)  # Accessing data types of the Series"
   ]
  },
  {
   "cell_type": "code",
   "execution_count": 17,
   "id": "8e91fa13",
   "metadata": {},
   "outputs": [
    {
     "name": "stdout",
     "output_type": "stream",
     "text": [
      "4\n"
     ]
    }
   ],
   "source": [
    "s=pd.Series([1,2,3,4] ,index=['a','b','c','d'])\n",
    "print(s.size)  # Accessing size of the Series"
   ]
  },
  {
   "cell_type": "code",
   "execution_count": 18,
   "id": "9f040f0f",
   "metadata": {},
   "outputs": [
    {
     "name": "stdout",
     "output_type": "stream",
     "text": [
      "(4,)\n"
     ]
    }
   ],
   "source": [
    "print (s.shape)"
   ]
  },
  {
   "cell_type": "code",
   "execution_count": 20,
   "id": "1a0e7f1e",
   "metadata": {},
   "outputs": [
    {
     "ename": "SyntaxError",
     "evalue": "invalid syntax (1061887425.py, line 2)",
     "output_type": "error",
     "traceback": [
      "  \u001b[36mCell\u001b[39m\u001b[36m \u001b[39m\u001b[32mIn[20]\u001b[39m\u001b[32m, line 2\u001b[39m\n\u001b[31m    \u001b[39m\u001b[31mprint(marks_series.is unique())  # Check for unique values in the Series\u001b[39m\n                       ^\n\u001b[31mSyntaxError\u001b[39m\u001b[31m:\u001b[39m invalid syntax\n"
     ]
    }
   ],
   "source": [
    "marks_series = pd.Series([85, 90, 78, 92])\n",
    "print(marks_series.is unique())  # Check for unique values in the Series"
   ]
  },
  {
   "cell_type": "code",
   "execution_count": 21,
   "id": "18e109f0",
   "metadata": {},
   "outputs": [
    {
     "name": "stdout",
     "output_type": "stream",
     "text": [
      "0    1.0\n",
      "1    2.0\n",
      "2    3.0\n",
      "3    NaN\n",
      "4    4.0\n",
      "dtype: float64\n",
      "0    False\n",
      "1    False\n",
      "2    False\n",
      "3     True\n",
      "4    False\n",
      "dtype: bool\n",
      "0     True\n",
      "1     True\n",
      "2     True\n",
      "3    False\n",
      "4     True\n",
      "dtype: bool\n"
     ]
    }
   ],
   "source": [
    "s_with_man = pd.Series([1, 2, 3,None, 4])\n",
    "print(s_with_man)\n",
    "print(s_with_man.isnull())  # Check for null values in the Series\n",
    "print(s_with_man.notnull())  # Check for non-null values in the Series"
   ]
  },
  {
   "cell_type": "markdown",
   "id": "8894e870",
   "metadata": {},
   "source": [
    "acesing mutiple value\n"
   ]
  },
  {
   "cell_type": "code",
   "execution_count": 23,
   "id": "c53584a5",
   "metadata": {},
   "outputs": [
    {
     "name": "stdout",
     "output_type": "stream",
     "text": [
      "a    10\n",
      "b    20\n",
      "c    30\n",
      "d    40\n",
      "e    50\n",
      "dtype: int64\n"
     ]
    }
   ],
   "source": [
    "data = pd.Series([10,20,30,40,50],index=['a','b','c','d','e'])\n",
    "print(data)  # Accessing a single value by index"
   ]
  },
  {
   "cell_type": "code",
   "execution_count": 24,
   "id": "8f7edcb5",
   "metadata": {},
   "outputs": [
    {
     "name": "stdout",
     "output_type": "stream",
     "text": [
      "a    10\n",
      "b    20\n",
      "c    30\n",
      "d    40\n",
      "e    50\n",
      "dtype: int64\n"
     ]
    }
   ],
   "source": [
    "print(data)\n"
   ]
  },
  {
   "cell_type": "code",
   "execution_count": null,
   "id": "376f0004",
   "metadata": {},
   "outputs": [],
   "source": []
  },
  {
   "cell_type": "code",
   "execution_count": 25,
   "id": "a138dcda",
   "metadata": {},
   "outputs": [
    {
     "name": "stdout",
     "output_type": "stream",
     "text": [
      "b    20\n",
      "c    30\n",
      "d    40\n",
      "dtype: int64\n",
      "\n",
      "c    30\n",
      "d    40\n",
      "e    50\n",
      "dtype: int64\n",
      "\n",
      "e    50\n",
      "d    40\n",
      "c    30\n",
      "b    20\n",
      "a    10\n",
      "dtype: int64\n",
      "\n",
      "a    10\n",
      "c    30\n",
      "e    50\n",
      "dtype: int64\n"
     ]
    }
   ],
   "source": [
    "print(data[1:4])\n",
    "print()\n",
    "print(data[2:5])  \n",
    "print()\n",
    "print(data[::-1])\n",
    "print()\n",
    "print(data[0::2])  "
   ]
  }
 ],
 "metadata": {
  "kernelspec": {
   "display_name": "Python 3",
   "language": "python",
   "name": "python3"
  },
  "language_info": {
   "codemirror_mode": {
    "name": "ipython",
    "version": 3
   },
   "file_extension": ".py",
   "mimetype": "text/x-python",
   "name": "python",
   "nbconvert_exporter": "python",
   "pygments_lexer": "ipython3",
   "version": "3.11.9"
  }
 },
 "nbformat": 4,
 "nbformat_minor": 5
}
